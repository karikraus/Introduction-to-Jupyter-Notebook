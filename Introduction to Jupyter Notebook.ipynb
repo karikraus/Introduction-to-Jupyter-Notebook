{
 "cells": [
  {
   "cell_type": "markdown",
   "metadata": {},
   "source": [
    "<span style=\"font-family:Garamond; font-size:18px;\">\n",
    "    \n",
    "# Launching Jupyter and Working with this Notebook\n",
    "\n",
    "If you haven't already, you'll need to download and install [Anaconda,](https://www.anaconda.com/products/individual-d#Downloads) being sure to select the correct “graphical installer” for your platform. After installation, launch Anaconda and click on \"Juypyter Notebook.\" The application should open in your browser window.\n",
    "    \n",
    "To work with this notebook, select \"Notebook\" under the \"Download As\" option from the \"File\" pulldown menu at the top. Return to your own Jupyter Notebook dashboard (your own locally installed version), select the \"Upload\" button, and locate the .ipynb file you just downloaded from the web (\"Introduction to Jupyter Notebook\"). Once you see it appear in your dashboard, you'll need to select \"Upload\" one more time. Then you can click on the file to open it and begin to interact with it.</span>\n"
   ]
  },
  {
   "cell_type": "markdown",
   "metadata": {},
   "source": [
    "<span style=\"font-family:Garamond; font-size:18px;\">\n",
    "\n",
    "# What Is Jupyter Notebook?\n",
    "\n",
    "The Jupyter notebook is a browser-based coding environment that supports integration of executable code with text, images, video, and other media. The interface evokes the old-school, spiralbound notebooks of our youth, but instead of wide-ruled lines for guiding handwriting, the unit or space of composition is the cell. There are two main types of cells: code cells and markdown cells. Code cells, as the name suggests, are dedicated to code, while markdown cells contain text. \"Markdown\" denotes a lightweight descriptive language, similar to HTML/CSS, that specifies how text should be formatted. This cell, for example--the one you're reading right now--contains markdown that instructs the browser to display the header in a larger font than the rest of the text. If you place your cursor in this cell and double click, you'll be able to see the markdown code, which consists of a single hashmark in front of the section title, \"What is Jupyter Notebook?\" You can also embed HTML code to supplement markdown. I've specified the font style and size using HTML tags, which are likewise visible by double clicking inside the cell.</span>"
   ]
  },
  {
   "cell_type": "markdown",
   "metadata": {},
   "source": [
    "<span style=\"font-family:Garamond; font-size:18px;\">\n",
    "\n",
    "# Adding and Deleting Cells\n",
    "\n",
    "To add a new cell, first select this cell and then select \"Insert Cell Below\" from the \"Insert\" menu at the top of the notebook. Key in the following \"Hello World\" code from the next cell, and when you're done, click on the \"Run\" button at the top of the notebook. Whether you're working with Code or Markdown cells, you can click on the \"Run\" button to \"publish\" the results. Alternatively, you can hit Ctrl-Enter or Command-Enter on your keyboard. Repeat the excercise choosing text other than \"Hello World\" to print.\n",
    "\n",
    "</span>"
   ]
  },
  {
   "cell_type": "code",
   "execution_count": null,
   "metadata": {},
   "outputs": [],
   "source": [
    "print(\"Hello World\")"
   ]
  },
  {
   "cell_type": "markdown",
   "metadata": {},
   "source": [
    "<span style=\"font-family:Garamond; font-size:18px;\">\n",
    "\n",
    "Create a new cell and repeat the above exercise, but this time publish the cell by pressing Alt-Enter (or Option-Enter on Mac). This method should publish the text and also add a new cell below it. If you want to delete a cell, place your cursor inside the cell and then click on the scissors icon at the top of the notebook. \n",
    "    \n",
    "</span>\n"
   ]
  },
  {
   "cell_type": "markdown",
   "metadata": {},
   "source": [
    "<span style=\"font-family:Garamond; font-size:18px;\">\n",
    "\n",
    "# Adding Markdown Code to Format Text\n",
    "The default cell type in Jupyter is code. To switch to markdown, place your cursor in the cell, then select \"cell type,\" followed by \"markdown\" from the \"cell\" pulldown menu at the top of the notebook.  \n",
    "You can find scores of markdown guides on the web. Here are some of the markdown codes you should familiarize yourself with:<br>\n",
    "    \n",
    "### Heading style\n",
    "    \n",
    "    \n",
    "</span>"
   ]
  },
  {
   "cell_type": "raw",
   "metadata": {},
   "source": [
    "# H1\n",
    "## H2\n",
    "### H3\n",
    "#### H4"
   ]
  },
  {
   "cell_type": "markdown",
   "metadata": {},
   "source": [
    "<span style=\"font-family:Garamond; font-size:18px;\">\n",
    "Here's what those codes look like when applied:</span>\n",
    "\n",
    "# H1\n",
    "## H2\n",
    "### H3\n",
    "#### H4\n",
    "\n",
    "<span style=\"font-family:Garamond; font-size:18px;\">If you're familiar with HTML/CSS you know that there are also HTML tags for accomplishing much the same thing. Those work in Jupyter Notebook markdown cells too. "
   ]
  },
  {
   "cell_type": "raw",
   "metadata": {},
   "source": [
    "<h1>H1</h1>\n",
    "<h2>H2</h2>\n",
    "<h3>H3</h3>\n",
    "<h4>H4</h4>\n",
    "<h5>H5</h5>\n",
    "<h6>H6</h6>"
   ]
  },
  {
   "cell_type": "markdown",
   "metadata": {},
   "source": [
    "<span style=\"font-family:Garamond; font-size:18px;\">\n",
    "And here's what the heading titles look like when formatted using HTML tags in lieu of markdown:\n",
    "<h1>H1</h1>\n",
    "<h2>H2</h2>\n",
    "<h3>H3</h3>\n",
    "<h4>H4</h4>\n",
    "<h5>H5</h5>\n",
    "<h6>H6</h6>\n",
    "</span>"
   ]
  },
  {
   "cell_type": "markdown",
   "metadata": {},
   "source": [
    "<span style=\"font-family:garamond; font-size:18px;\">\n",
    "    \n",
    "### Line Breaks\n",
    "\n",
    "To insert a line break, add two spaces at the end of your line and hit return. Alternatively you can use an HTML break tag:</span>"
   ]
  },
  {
   "cell_type": "raw",
   "metadata": {},
   "source": [
    "Rain deepens lichened<br>\n",
    "letters on a windy street<br>\n",
    "descending seaward.<br>"
   ]
  },
  {
   "cell_type": "markdown",
   "metadata": {},
   "source": [
    "<span style=\"font-family:garamond; font-size:18px;\">\n",
    "Here's what the result looks like:  \n",
    "<br>    \n",
    "    \n",
    ">Rain deepens lichened<br>\n",
    ">letters on a windy street<br>\n",
    ">descending seaward.<br>\n",
    "\n",
    "That's a haiku generated from a wonderful little program authored by Lee Vaughan, which you can find in [*Impractical Python Projects*](https://www.amazon.com/Impractical-Python-Projects-Programming-Activities/dp/159327890X/ref=sr_1_1?dchild=1&keywords=impractical+python+projects&qid=1631835178&sr=8-1). We'll take a closer look at computer-generated haikus later in the semester.\n",
    "    \n",
    "Be sure to try both the markdown and CSS methods. And for an additional experiment, see what happens if you fail to apply either method and instead just hit the return key at the end of each line.    \n",
    "</span>"
   ]
  },
  {
   "cell_type": "markdown",
   "metadata": {},
   "source": [
    "<span style=\"font-family:garamond; font-size:18px;\">\n",
    "    \n",
    "### Links\n",
    "To add a link using markdown, enclose the link text in square brackets, followed by the URL address in parentheses:\n",
    "    \n",
    "</span>"
   ]
  },
  {
   "cell_type": "raw",
   "metadata": {},
   "source": [
    "[Link](https://www.markdownguide.org/cheat-sheet/) to a helpful markdown cheatsheet"
   ]
  },
  {
   "cell_type": "markdown",
   "metadata": {},
   "source": [
    "<span style = \"font-family: garamond; font-size: 18px;\">\n",
    "Here's what it looks like when rendered:<br>\n",
    "    \n",
    "[Link](https://www.markdownguide.org/cheat-sheet/) to a helpful markdown cheatsheet   \n",
    "    \n",
    "Create a new markdown cell and add your own text with links.\n",
    "    \n",
    "</span>"
   ]
  },
  {
   "cell_type": "markdown",
   "metadata": {},
   "source": [
    "<span style = \"font-family: garamond; font-size: 18px;\">\n",
    "    \n",
    "### Ordered List\n",
    "The markdown for creating a numbered list is more intuitive than some of the other symbols or tags we've looked at: just number each consecutive item, pressing return after each one:\n",
    "\n",
    "</span>"
   ]
  },
  {
   "cell_type": "raw",
   "metadata": {},
   "source": [
    "1. First item\n",
    "2. Second item\n",
    "3. Third item"
   ]
  },
  {
   "cell_type": "markdown",
   "metadata": {},
   "source": [
    "<span style = \"font-family: garamond; font-size: 18px;\">\n",
    "    \n",
    "And here is the rendered list:\n",
    "\n",
    "1. First item\n",
    "2. Second item\n",
    "3. Third item\n",
    "    \n",
    "Create a new cell and generate your own list.\n",
    "    \n",
    "</span>"
   ]
  },
  {
   "cell_type": "markdown",
   "metadata": {},
   "source": [
    "<span style = \"font-family: garamond; font-size: 18px;\">\n",
    "    \n",
    "### Block Quotes\n",
    "    \n",
    "To format a block quote, insert a greater than symbol plus an optional space in front of the text to be indented:\n",
    "</span>"
   ]
  },
  {
   "cell_type": "raw",
   "metadata": {},
   "source": [
    "> Here is a block quote"
   ]
  },
  {
   "cell_type": "markdown",
   "metadata": {},
   "source": [
    "<span style = \"font-family: garamond; font-size: 18px;\">\n",
    "Block quote in action:\n",
    "\n",
    "> Here is a block quote\n",
    "    \n",
    "Create a new cell and experiment with block quotes.\n",
    "    \n",
    "### Font Styles\n",
    "You can use the HTML span element and style attribute in combination to specify font style, size, color, and background color in a markdown cell. Here's an example that displays a stanza from Oscar Wilde's \"Symphony in Yellow\" in, well, yellow:\n",
    "\n",
    "</span>"
   ]
  },
  {
   "cell_type": "raw",
   "metadata": {},
   "source": [
    "<span style = \"color: #FFC300;\">\n",
    "\n",
    "Big barges full of yellow hay<br>\n",
    "Are moored against the shadowy wharf,<br>\n",
    "And, like a yellow silken scarf,<br>\n",
    "The thick fog hangs along the quay.<br>\n",
    "\n",
    "</span>"
   ]
  },
  {
   "cell_type": "markdown",
   "metadata": {},
   "source": [
    "<span style = \"font-family: garamond; font-size: 18px;\">\n",
    "    \n",
    "The alphanumeric code used above for the color value is what is called a hex color code. There are a variety of tools on the web for helping you select colors. [Here is a good one.](https://htmlcolorcodes.com/color-picker/) You can also write in generic color names (e.g., \"blue\" \"red\" \"yellow\" \"green\") in lieu of using hex codes.\n",
    "    \n",
    "</span>"
   ]
  },
  {
   "cell_type": "markdown",
   "metadata": {},
   "source": [
    "<span style = \"color: #FFC300;\">\n",
    "\n",
    "Big barges full of yellow hay<br>\n",
    "Are moored against the shadowy wharf,<br>\n",
    "And, like a yellow silken scarf,<br>\n",
    "The thick fog hangs along the quay.<br>\n",
    "&nbsp;&nbsp;&nbsp;&nbsp;&nbsp; *from Oscar Wilde, \"Symphony in Yellow\"*\n",
    "\n",
    "</span>"
   ]
  },
  {
   "cell_type": "markdown",
   "metadata": {},
   "source": [
    "<span style = \"font-family:garamond; font-size:18px;\">\n",
    "\n",
    "The following poetic fragment From Andrew Marvell's \"The Garden\" uses the HTML span element and style attribute together to specify font color, style, and size. (The markdown/HTML code is shown in the cell immediately following this one):<br><br>\n",
    "    \n",
    "</span>\n",
    "\n",
    "<span style = \"font-family:garamond; font-size:18px; color: green;\">\n",
    "      \n",
    "No white nor red was ever seen <br>\n",
    "So am’rous as this lovely green.<br>\n",
    "\n",
    "</span>"
   ]
  },
  {
   "cell_type": "raw",
   "metadata": {},
   "source": [
    "<span style = \"font-family:garamond; font-size:18px; color: green;\">\n",
    "      \n",
    "No white nor red was ever seen <br>\n",
    "So am’rous as this lovely green.<br>\n",
    "\n",
    "</span>"
   ]
  },
  {
   "cell_type": "markdown",
   "metadata": {},
   "source": [
    "<span style = \"font-family: garamond; font-size: 18px;\">\n",
    "    \n",
    "Create one or more new markdown cells and experiment with font style, color, and size. A great primer on using the \"style\" attribute can be found at W3Schools [here](https://www.w3schools.com/html/html_styles.asp). Likewise, you can learn more about applying and using the span element [here](https://www.w3schools.com/tags/tag_span.asp) "
   ]
  },
  {
   "cell_type": "markdown",
   "metadata": {},
   "source": [
    "<span style=\"font-family:Garamond; font-size:18px;\">\n",
    "\n",
    "# Inserting Images in a Notebook\n",
    "\n",
    "You can add an image to a markdown cell by selecting \"Insert Image\" from the \"Edit\" pulldown menu at the top of your notebook. You'll be prompted to browse your hard drive for the image you'd like to upload. For additional ways to embed an image in both markdown and code cells, see [this tutorial](https://datascienceparichay.com/article/insert-image-in-a-jupyter-notebook/). I'd suggest reviewing the tutorial section \"Using HTML in Markdown\" if you'd like to resize your image. \n",
    "\n",
    "\n",
    "Here are some great sources for images, either in the public domain or offered under generous user licenses:\n",
    "1. [Creative Commons search engine](https://search.creativecommons.org/)\n",
    "1. [WikiArt](https://www.wikiart.org/)\n",
    "1. [Pixabay](https://pixabay.com/)\n",
    "1. [Artstor](https://www.artstor.org/)\n",
    "    1. [access ArtStor through UMD libraries by logging in with UMD credentials](https://library-artstor-org.proxy-um.researchport.umd.edu/#/)\n",
    "    \n",
    " Exercise: Create a new markdown cell and add an image.\n",
    "</span>"
   ]
  },
  {
   "cell_type": "markdown",
   "metadata": {},
   "source": [
    "<span style=\"font-family:Garamond; font-size:18px;\">\n",
    "\n",
    "# Additional Resources\n",
    "\n",
    "[Allison Parrish’s Jupyter Tutorial](https://github.com/aparrish/rwet/blob/master/jupyter-notebook-tutorial.ipynb)\n",
    "\n",
    "</span>"
   ]
  },
  {
   "cell_type": "markdown",
   "metadata": {},
   "source": [
    "<span style = \"font-family:garamond; font-size:18px;\">\n",
    "\n",
    "Other tips and tricks: if your notebook freezes, select \"Restart\" from the \"Kernel\" pulldown menu. Click \"Restart and Clear Output\" from the same \"Kernel\" menu if you'd like to remove all the output from each of your cells and run them again. You can also clear the output for an individual cell by selecting \"Clear\" from \"Current Outputs\" under the \"Cell\" pulldown menu.\n",
    "\n",
    "</span>"
   ]
  },
  {
   "cell_type": "markdown",
   "metadata": {},
   "source": [
    "<span style = \"font-family:garamond; font-size:18px;\">\n",
    "\n",
    "# Installing TextBlob from a Jupyter Notebook\n",
    "\n",
    "EASIEST METHOD: in a new JUPYTER notebook (or in this one), type and execute the following code:<br>\n",
    "import sys<br>\n",
    "!{sys.executable} -m pip install -U textblob<br>\n",
    "!{sys.executable} python -m textblob.download_corpora<br>\n",
    "\n",
    "If that doesn't work, try:<br>\n",
    "import sys<br>\n",
    "!{sys.executable} -m pip install -U textblob<br>\n",
    "python -m textblob.download_corpora<br>\n",
    "    \n",
    "NEW METHOD:  \n",
    "import sys  \n",
    "!conda install --yes --prefix {sys.prefix} textblob  \n",
    "!{sys.executable} python -m textblob.download_corpora  \n",
    "    \n",
    "If that third line of code doesn't work, type in the following:  \n",
    "!python -m textblob.download_corpora  \n",
    "\n",
    "</span>"
   ]
  },
  {
   "cell_type": "code",
   "execution_count": null,
   "metadata": {},
   "outputs": [],
   "source": []
  }
 ],
 "metadata": {
  "kernelspec": {
   "display_name": "Python 3",
   "language": "python",
   "name": "python3"
  },
  "language_info": {
   "codemirror_mode": {
    "name": "ipython",
    "version": 3
   },
   "file_extension": ".py",
   "mimetype": "text/x-python",
   "name": "python",
   "nbconvert_exporter": "python",
   "pygments_lexer": "ipython3",
   "version": "3.7.6"
  }
 },
 "nbformat": 4,
 "nbformat_minor": 4
}
